{
 "cells": [
  {
   "cell_type": "code",
   "execution_count": 27,
   "id": "f2c6e3ec",
   "metadata": {},
   "outputs": [
    {
     "name": "stdout",
     "output_type": "stream",
     "text": [
      "%pylab is deprecated, use %matplotlib inline and import the required libraries.\n",
      "Populating the interactive namespace from numpy and matplotlib\n"
     ]
    }
   ],
   "source": [
    "#Import all the necessary packages\n",
    "from pandas import Series, DataFrame\n",
    "import pandas as pd\n",
    "from sklearn.ensemble import RandomForestClassifier\n",
    "from sklearn.utils.class_weight import compute_sample_weight\n",
    "from sklearn.metrics import RocCurveDisplay\n",
    "from sklearn.metrics import accuracy_score\n",
    "from patsy import dmatrices\n",
    "import warnings\n",
    "import seaborn as sns\n",
    "import xgboost as xgb\n",
    "from xgboost import plot_tree\n",
    "from xgboost import plot_importance\n",
    "from sklearn.metrics import PrecisionRecallDisplay\n",
    "\n",
    "%pylab inline\n",
    "warnings.filterwarnings('ignore')"
   ]
  },
  {
   "cell_type": "markdown",
   "id": "e59f5ffc",
   "metadata": {},
   "source": [
    "# Decision Tree"
   ]
  },
  {
   "cell_type": "code",
   "execution_count": 2,
   "id": "afc8e8d1",
   "metadata": {},
   "outputs": [
    {
     "data": {
      "text/html": [
       "<div>\n",
       "<style scoped>\n",
       "    .dataframe tbody tr th:only-of-type {\n",
       "        vertical-align: middle;\n",
       "    }\n",
       "\n",
       "    .dataframe tbody tr th {\n",
       "        vertical-align: top;\n",
       "    }\n",
       "\n",
       "    .dataframe thead th {\n",
       "        text-align: right;\n",
       "    }\n",
       "</style>\n",
       "<table border=\"1\" class=\"dataframe\">\n",
       "  <thead>\n",
       "    <tr style=\"text-align: right;\">\n",
       "      <th></th>\n",
       "      <th>time_in_hospital</th>\n",
       "      <th>num_lab_procedures</th>\n",
       "      <th>num_procedures</th>\n",
       "      <th>num_medications</th>\n",
       "      <th>number_outpatient</th>\n",
       "      <th>number_emergency</th>\n",
       "      <th>number_inpatient</th>\n",
       "      <th>number_diagnoses</th>\n",
       "      <th>insulin</th>\n",
       "      <th>change</th>\n",
       "      <th>...</th>\n",
       "      <th>diag_2_Other</th>\n",
       "      <th>diag_2_Respiratory</th>\n",
       "      <th>diag_3_Diabetes</th>\n",
       "      <th>diag_3_Digestive</th>\n",
       "      <th>diag_3_Genitourinary</th>\n",
       "      <th>diag_3_Injury</th>\n",
       "      <th>diag_3_Musculoskeletal</th>\n",
       "      <th>diag_3_Other</th>\n",
       "      <th>diag_3_Respiratory</th>\n",
       "      <th>readmitted</th>\n",
       "    </tr>\n",
       "  </thead>\n",
       "  <tbody>\n",
       "    <tr>\n",
       "      <th>0</th>\n",
       "      <td>5.0</td>\n",
       "      <td>59.0</td>\n",
       "      <td>0.0</td>\n",
       "      <td>10.0</td>\n",
       "      <td>0.0</td>\n",
       "      <td>0.0</td>\n",
       "      <td>0.0</td>\n",
       "      <td>9.0</td>\n",
       "      <td>0</td>\n",
       "      <td>0</td>\n",
       "      <td>...</td>\n",
       "      <td>0</td>\n",
       "      <td>0</td>\n",
       "      <td>0</td>\n",
       "      <td>0</td>\n",
       "      <td>0</td>\n",
       "      <td>0</td>\n",
       "      <td>0</td>\n",
       "      <td>1</td>\n",
       "      <td>0</td>\n",
       "      <td>0</td>\n",
       "    </tr>\n",
       "    <tr>\n",
       "      <th>1</th>\n",
       "      <td>3.0</td>\n",
       "      <td>32.0</td>\n",
       "      <td>6.0</td>\n",
       "      <td>17.0</td>\n",
       "      <td>0.0</td>\n",
       "      <td>0.0</td>\n",
       "      <td>0.0</td>\n",
       "      <td>6.0</td>\n",
       "      <td>0</td>\n",
       "      <td>0</td>\n",
       "      <td>...</td>\n",
       "      <td>0</td>\n",
       "      <td>0</td>\n",
       "      <td>0</td>\n",
       "      <td>0</td>\n",
       "      <td>0</td>\n",
       "      <td>0</td>\n",
       "      <td>0</td>\n",
       "      <td>1</td>\n",
       "      <td>0</td>\n",
       "      <td>0</td>\n",
       "    </tr>\n",
       "    <tr>\n",
       "      <th>2</th>\n",
       "      <td>3.0</td>\n",
       "      <td>56.0</td>\n",
       "      <td>0.0</td>\n",
       "      <td>9.0</td>\n",
       "      <td>0.0</td>\n",
       "      <td>0.0</td>\n",
       "      <td>0.0</td>\n",
       "      <td>5.0</td>\n",
       "      <td>0</td>\n",
       "      <td>0</td>\n",
       "      <td>...</td>\n",
       "      <td>0</td>\n",
       "      <td>0</td>\n",
       "      <td>0</td>\n",
       "      <td>0</td>\n",
       "      <td>0</td>\n",
       "      <td>0</td>\n",
       "      <td>0</td>\n",
       "      <td>1</td>\n",
       "      <td>0</td>\n",
       "      <td>0</td>\n",
       "    </tr>\n",
       "    <tr>\n",
       "      <th>3</th>\n",
       "      <td>10.0</td>\n",
       "      <td>46.0</td>\n",
       "      <td>0.0</td>\n",
       "      <td>30.0</td>\n",
       "      <td>0.0</td>\n",
       "      <td>1.0</td>\n",
       "      <td>1.0</td>\n",
       "      <td>8.0</td>\n",
       "      <td>0</td>\n",
       "      <td>0</td>\n",
       "      <td>...</td>\n",
       "      <td>0</td>\n",
       "      <td>0</td>\n",
       "      <td>0</td>\n",
       "      <td>0</td>\n",
       "      <td>0</td>\n",
       "      <td>0</td>\n",
       "      <td>0</td>\n",
       "      <td>1</td>\n",
       "      <td>0</td>\n",
       "      <td>1</td>\n",
       "    </tr>\n",
       "    <tr>\n",
       "      <th>4</th>\n",
       "      <td>4.0</td>\n",
       "      <td>58.0</td>\n",
       "      <td>3.0</td>\n",
       "      <td>13.0</td>\n",
       "      <td>0.0</td>\n",
       "      <td>0.0</td>\n",
       "      <td>0.0</td>\n",
       "      <td>8.0</td>\n",
       "      <td>0</td>\n",
       "      <td>0</td>\n",
       "      <td>...</td>\n",
       "      <td>0</td>\n",
       "      <td>0</td>\n",
       "      <td>0</td>\n",
       "      <td>0</td>\n",
       "      <td>0</td>\n",
       "      <td>0</td>\n",
       "      <td>0</td>\n",
       "      <td>0</td>\n",
       "      <td>0</td>\n",
       "      <td>0</td>\n",
       "    </tr>\n",
       "  </tbody>\n",
       "</table>\n",
       "<p>5 rows × 49 columns</p>\n",
       "</div>"
      ],
      "text/plain": [
       "   time_in_hospital  num_lab_procedures  num_procedures  num_medications  \\\n",
       "0               5.0                59.0             0.0             10.0   \n",
       "1               3.0                32.0             6.0             17.0   \n",
       "2               3.0                56.0             0.0              9.0   \n",
       "3              10.0                46.0             0.0             30.0   \n",
       "4               4.0                58.0             3.0             13.0   \n",
       "\n",
       "   number_outpatient  number_emergency  number_inpatient  number_diagnoses  \\\n",
       "0                0.0               0.0               0.0               9.0   \n",
       "1                0.0               0.0               0.0               6.0   \n",
       "2                0.0               0.0               0.0               5.0   \n",
       "3                0.0               1.0               1.0               8.0   \n",
       "4                0.0               0.0               0.0               8.0   \n",
       "\n",
       "   insulin  change  ...  diag_2_Other  diag_2_Respiratory  diag_3_Diabetes  \\\n",
       "0        0       0  ...             0                   0                0   \n",
       "1        0       0  ...             0                   0                0   \n",
       "2        0       0  ...             0                   0                0   \n",
       "3        0       0  ...             0                   0                0   \n",
       "4        0       0  ...             0                   0                0   \n",
       "\n",
       "   diag_3_Digestive  diag_3_Genitourinary  diag_3_Injury  \\\n",
       "0                 0                     0              0   \n",
       "1                 0                     0              0   \n",
       "2                 0                     0              0   \n",
       "3                 0                     0              0   \n",
       "4                 0                     0              0   \n",
       "\n",
       "   diag_3_Musculoskeletal  diag_3_Other  diag_3_Respiratory  readmitted  \n",
       "0                       0             1                   0           0  \n",
       "1                       0             1                   0           0  \n",
       "2                       0             1                   0           0  \n",
       "3                       0             1                   0           1  \n",
       "4                       0             0                   0           0  \n",
       "\n",
       "[5 rows x 49 columns]"
      ]
     },
     "execution_count": 2,
     "metadata": {},
     "output_type": "execute_result"
    }
   ],
   "source": [
    "#Import the training set\n",
    "train = pd.read_csv(\"train.csv\")\n",
    "train.head()"
   ]
  },
  {
   "cell_type": "code",
   "execution_count": 3,
   "id": "71d86dd5",
   "metadata": {},
   "outputs": [],
   "source": [
    "#Get a list of all column names besides the predictor \"readmitted\" column\n",
    "column_headers = train.columns.values.tolist()\n",
    "column_headers = column_headers[:-1]"
   ]
  },
  {
   "cell_type": "code",
   "execution_count": 4,
   "id": "73ea9913",
   "metadata": {},
   "outputs": [],
   "source": [
    "#Set the x and y training sets\n",
    "X_train = train[column_headers]\n",
    "y_train = train['readmitted']"
   ]
  },
  {
   "cell_type": "code",
   "execution_count": 5,
   "id": "13749906",
   "metadata": {},
   "outputs": [
    {
     "data": {
      "text/html": [
       "<div>\n",
       "<style scoped>\n",
       "    .dataframe tbody tr th:only-of-type {\n",
       "        vertical-align: middle;\n",
       "    }\n",
       "\n",
       "    .dataframe tbody tr th {\n",
       "        vertical-align: top;\n",
       "    }\n",
       "\n",
       "    .dataframe thead th {\n",
       "        text-align: right;\n",
       "    }\n",
       "</style>\n",
       "<table border=\"1\" class=\"dataframe\">\n",
       "  <thead>\n",
       "    <tr style=\"text-align: right;\">\n",
       "      <th></th>\n",
       "      <th>time_in_hospital</th>\n",
       "      <th>num_lab_procedures</th>\n",
       "      <th>num_procedures</th>\n",
       "      <th>num_medications</th>\n",
       "      <th>number_outpatient</th>\n",
       "      <th>number_emergency</th>\n",
       "      <th>number_inpatient</th>\n",
       "      <th>number_diagnoses</th>\n",
       "      <th>insulin</th>\n",
       "      <th>change</th>\n",
       "      <th>...</th>\n",
       "      <th>diag_2_Other</th>\n",
       "      <th>diag_2_Respiratory</th>\n",
       "      <th>diag_3_Diabetes</th>\n",
       "      <th>diag_3_Digestive</th>\n",
       "      <th>diag_3_Genitourinary</th>\n",
       "      <th>diag_3_Injury</th>\n",
       "      <th>diag_3_Musculoskeletal</th>\n",
       "      <th>diag_3_Other</th>\n",
       "      <th>diag_3_Respiratory</th>\n",
       "      <th>readmitted</th>\n",
       "    </tr>\n",
       "  </thead>\n",
       "  <tbody>\n",
       "    <tr>\n",
       "      <th>0</th>\n",
       "      <td>2.5</td>\n",
       "      <td>45.5</td>\n",
       "      <td>0.0</td>\n",
       "      <td>10.5</td>\n",
       "      <td>0.0</td>\n",
       "      <td>0.0</td>\n",
       "      <td>0.5</td>\n",
       "      <td>7.5</td>\n",
       "      <td>0</td>\n",
       "      <td>0</td>\n",
       "      <td>...</td>\n",
       "      <td>1</td>\n",
       "      <td>0</td>\n",
       "      <td>0</td>\n",
       "      <td>1</td>\n",
       "      <td>0</td>\n",
       "      <td>0</td>\n",
       "      <td>0</td>\n",
       "      <td>0</td>\n",
       "      <td>0</td>\n",
       "      <td>1</td>\n",
       "    </tr>\n",
       "    <tr>\n",
       "      <th>1</th>\n",
       "      <td>2.0</td>\n",
       "      <td>72.0</td>\n",
       "      <td>0.0</td>\n",
       "      <td>15.0</td>\n",
       "      <td>0.0</td>\n",
       "      <td>0.0</td>\n",
       "      <td>0.0</td>\n",
       "      <td>4.0</td>\n",
       "      <td>1</td>\n",
       "      <td>1</td>\n",
       "      <td>...</td>\n",
       "      <td>1</td>\n",
       "      <td>0</td>\n",
       "      <td>0</td>\n",
       "      <td>0</td>\n",
       "      <td>0</td>\n",
       "      <td>0</td>\n",
       "      <td>0</td>\n",
       "      <td>1</td>\n",
       "      <td>0</td>\n",
       "      <td>1</td>\n",
       "    </tr>\n",
       "    <tr>\n",
       "      <th>2</th>\n",
       "      <td>5.0</td>\n",
       "      <td>51.0</td>\n",
       "      <td>0.0</td>\n",
       "      <td>10.0</td>\n",
       "      <td>0.0</td>\n",
       "      <td>0.0</td>\n",
       "      <td>0.0</td>\n",
       "      <td>9.0</td>\n",
       "      <td>0</td>\n",
       "      <td>0</td>\n",
       "      <td>...</td>\n",
       "      <td>1</td>\n",
       "      <td>0</td>\n",
       "      <td>1</td>\n",
       "      <td>0</td>\n",
       "      <td>0</td>\n",
       "      <td>0</td>\n",
       "      <td>0</td>\n",
       "      <td>0</td>\n",
       "      <td>0</td>\n",
       "      <td>0</td>\n",
       "    </tr>\n",
       "    <tr>\n",
       "      <th>3</th>\n",
       "      <td>10.0</td>\n",
       "      <td>81.0</td>\n",
       "      <td>2.0</td>\n",
       "      <td>35.0</td>\n",
       "      <td>0.0</td>\n",
       "      <td>0.0</td>\n",
       "      <td>0.0</td>\n",
       "      <td>9.0</td>\n",
       "      <td>1</td>\n",
       "      <td>1</td>\n",
       "      <td>...</td>\n",
       "      <td>0</td>\n",
       "      <td>1</td>\n",
       "      <td>0</td>\n",
       "      <td>0</td>\n",
       "      <td>0</td>\n",
       "      <td>0</td>\n",
       "      <td>0</td>\n",
       "      <td>1</td>\n",
       "      <td>0</td>\n",
       "      <td>0</td>\n",
       "    </tr>\n",
       "    <tr>\n",
       "      <th>4</th>\n",
       "      <td>1.0</td>\n",
       "      <td>26.0</td>\n",
       "      <td>1.0</td>\n",
       "      <td>12.0</td>\n",
       "      <td>0.0</td>\n",
       "      <td>0.0</td>\n",
       "      <td>0.0</td>\n",
       "      <td>4.0</td>\n",
       "      <td>1</td>\n",
       "      <td>1</td>\n",
       "      <td>...</td>\n",
       "      <td>1</td>\n",
       "      <td>0</td>\n",
       "      <td>0</td>\n",
       "      <td>0</td>\n",
       "      <td>0</td>\n",
       "      <td>0</td>\n",
       "      <td>0</td>\n",
       "      <td>1</td>\n",
       "      <td>0</td>\n",
       "      <td>0</td>\n",
       "    </tr>\n",
       "  </tbody>\n",
       "</table>\n",
       "<p>5 rows × 49 columns</p>\n",
       "</div>"
      ],
      "text/plain": [
       "   time_in_hospital  num_lab_procedures  num_procedures  num_medications  \\\n",
       "0               2.5                45.5             0.0             10.5   \n",
       "1               2.0                72.0             0.0             15.0   \n",
       "2               5.0                51.0             0.0             10.0   \n",
       "3              10.0                81.0             2.0             35.0   \n",
       "4               1.0                26.0             1.0             12.0   \n",
       "\n",
       "   number_outpatient  number_emergency  number_inpatient  number_diagnoses  \\\n",
       "0                0.0               0.0               0.5               7.5   \n",
       "1                0.0               0.0               0.0               4.0   \n",
       "2                0.0               0.0               0.0               9.0   \n",
       "3                0.0               0.0               0.0               9.0   \n",
       "4                0.0               0.0               0.0               4.0   \n",
       "\n",
       "   insulin  change  ...  diag_2_Other  diag_2_Respiratory  diag_3_Diabetes  \\\n",
       "0        0       0  ...             1                   0                0   \n",
       "1        1       1  ...             1                   0                0   \n",
       "2        0       0  ...             1                   0                1   \n",
       "3        1       1  ...             0                   1                0   \n",
       "4        1       1  ...             1                   0                0   \n",
       "\n",
       "   diag_3_Digestive  diag_3_Genitourinary  diag_3_Injury  \\\n",
       "0                 1                     0              0   \n",
       "1                 0                     0              0   \n",
       "2                 0                     0              0   \n",
       "3                 0                     0              0   \n",
       "4                 0                     0              0   \n",
       "\n",
       "   diag_3_Musculoskeletal  diag_3_Other  diag_3_Respiratory  readmitted  \n",
       "0                       0             0                   0           1  \n",
       "1                       0             1                   0           1  \n",
       "2                       0             0                   0           0  \n",
       "3                       0             1                   0           0  \n",
       "4                       0             1                   0           0  \n",
       "\n",
       "[5 rows x 49 columns]"
      ]
     },
     "execution_count": 5,
     "metadata": {},
     "output_type": "execute_result"
    }
   ],
   "source": [
    "#Import the test set\n",
    "test = pd.read_csv(\"test.csv\")\n",
    "test.head()"
   ]
  },
  {
   "cell_type": "code",
   "execution_count": 6,
   "id": "19838786",
   "metadata": {},
   "outputs": [],
   "source": [
    "#Set the x and y test sets\n",
    "X_test = test[column_headers]\n",
    "y_test = test['readmitted']"
   ]
  },
  {
   "cell_type": "code",
   "execution_count": 7,
   "id": "f72b56d1",
   "metadata": {},
   "outputs": [],
   "source": [
    "#Import the decision tree package and set the class weights as discussed in the group meeting\n",
    "from sklearn import tree\n",
    "decision_tree_1 = tree.DecisionTreeClassifier(criterion='entropy', class_weight={0:1,1:2})"
   ]
  },
  {
   "cell_type": "code",
   "execution_count": 8,
   "id": "1e2e1cb5",
   "metadata": {},
   "outputs": [],
   "source": [
    "#Fit the model\n",
    "result = decision_tree_1.fit(X_train, y_train)"
   ]
  },
  {
   "cell_type": "code",
   "execution_count": 9,
   "id": "edef6be5",
   "metadata": {},
   "outputs": [
    {
     "name": "stdout",
     "output_type": "stream",
     "text": [
      "1.0\n"
     ]
    }
   ],
   "source": [
    "#Print the accuracy score on the training set\n",
    "from sklearn import metrics\n",
    "\n",
    "prediction_train = decision_tree_1.predict(X_train)\n",
    "print(metrics.accuracy_score(y_train, prediction_train))"
   ]
  },
  {
   "cell_type": "code",
   "execution_count": 10,
   "id": "e0afc854",
   "metadata": {},
   "outputs": [
    {
     "name": "stdout",
     "output_type": "stream",
     "text": [
      "0.6903929354590174\n"
     ]
    }
   ],
   "source": [
    "#Print the accuracy score on the test set\n",
    "prediction = decision_tree_1.predict(X_test)\n",
    "print(metrics.accuracy_score(y_test, prediction))"
   ]
  },
  {
   "cell_type": "markdown",
   "id": "412a3107",
   "metadata": {},
   "source": [
    "### Since the above decision tree is overfit, I have made another one below with a max_depth of 2"
   ]
  },
  {
   "cell_type": "code",
   "execution_count": 11,
   "id": "85e30697",
   "metadata": {},
   "outputs": [],
   "source": [
    "#Run the decision tree again with a depth of two to improve accuracy and avoid overfitting\n",
    "decision_tree_2 = tree.DecisionTreeClassifier(criterion='entropy', max_depth=2, class_weight={0:1,1:2})\n",
    "result = decision_tree_2.fit(X_train, y_train)"
   ]
  },
  {
   "cell_type": "code",
   "execution_count": 12,
   "id": "fe4ff877",
   "metadata": {},
   "outputs": [
    {
     "name": "stdout",
     "output_type": "stream",
     "text": [
      "0.766501373056483\n"
     ]
    }
   ],
   "source": [
    "#Print the accuracy on the training set\n",
    "prediction_train = decision_tree_2.predict(X_train)\n",
    "print(metrics.accuracy_score(y_train, prediction_train))"
   ]
  },
  {
   "cell_type": "code",
   "execution_count": 13,
   "id": "f712f0b2",
   "metadata": {},
   "outputs": [
    {
     "name": "stdout",
     "output_type": "stream",
     "text": [
      "0.7750844544538612\n"
     ]
    }
   ],
   "source": [
    "#Print the accuracy on the test set\n",
    "prediction = decision_tree_2.predict(X_test)\n",
    "print(metrics.accuracy_score(y_test, prediction))"
   ]
  },
  {
   "cell_type": "code",
   "execution_count": 14,
   "id": "6d27a120",
   "metadata": {},
   "outputs": [],
   "source": [
    "#Visually display the decision tree\n",
    "import graphviz\n",
    "graphviz.Source(tree.export_graphviz(decision_tree_2,\n",
    "                                     out_file=None,\n",
    "                                     feature_names=X_train.columns.values,\n",
    "                                     filled=True))\n",
    "index=X_train.columns.to_list()"
   ]
  },
  {
   "cell_type": "code",
   "execution_count": 15,
   "id": "08ff0f67",
   "metadata": {},
   "outputs": [
    {
     "data": {
      "text/html": [
       "<div>\n",
       "<style scoped>\n",
       "    .dataframe tbody tr th:only-of-type {\n",
       "        vertical-align: middle;\n",
       "    }\n",
       "\n",
       "    .dataframe tbody tr th {\n",
       "        vertical-align: top;\n",
       "    }\n",
       "\n",
       "    .dataframe thead th {\n",
       "        text-align: right;\n",
       "    }\n",
       "</style>\n",
       "<table border=\"1\" class=\"dataframe\">\n",
       "  <thead>\n",
       "    <tr style=\"text-align: right;\">\n",
       "      <th></th>\n",
       "      <th>feature</th>\n",
       "      <th>importance</th>\n",
       "    </tr>\n",
       "  </thead>\n",
       "  <tbody>\n",
       "    <tr>\n",
       "      <th>6</th>\n",
       "      <td>number_inpatient</td>\n",
       "      <td>0.96117</td>\n",
       "    </tr>\n",
       "    <tr>\n",
       "      <th>7</th>\n",
       "      <td>number_diagnoses</td>\n",
       "      <td>0.03883</td>\n",
       "    </tr>\n",
       "    <tr>\n",
       "      <th>0</th>\n",
       "      <td>time_in_hospital</td>\n",
       "      <td>0.00000</td>\n",
       "    </tr>\n",
       "    <tr>\n",
       "      <th>36</th>\n",
       "      <td>diag_2_Genitourinary</td>\n",
       "      <td>0.00000</td>\n",
       "    </tr>\n",
       "    <tr>\n",
       "      <th>27</th>\n",
       "      <td>diag_1_Diabetes</td>\n",
       "      <td>0.00000</td>\n",
       "    </tr>\n",
       "  </tbody>\n",
       "</table>\n",
       "</div>"
      ],
      "text/plain": [
       "                 feature  importance\n",
       "6       number_inpatient     0.96117\n",
       "7       number_diagnoses     0.03883\n",
       "0       time_in_hospital     0.00000\n",
       "36  diag_2_Genitourinary     0.00000\n",
       "27       diag_1_Diabetes     0.00000"
      ]
     },
     "execution_count": 15,
     "metadata": {},
     "output_type": "execute_result"
    }
   ],
   "source": [
    "#Couldn't get the graph in better shape so presenting the values in a Df\n",
    "feat_imp_tree = pd.DataFrame()\n",
    "feat_imp_tree['feature'] = index\n",
    "feat_imp_tree['importance'] = decision_tree_2.feature_importances_\n",
    "feat_imp_tree = feat_imp_tree.sort_values(by=['importance'], ascending=False)\n",
    "feat_imp_tree.head()"
   ]
  },
  {
   "cell_type": "markdown",
   "id": "67249313",
   "metadata": {},
   "source": [
    "# Random Forest"
   ]
  },
  {
   "cell_type": "code",
   "execution_count": 16,
   "id": "9d43bb01",
   "metadata": {},
   "outputs": [],
   "source": [
    "#Implement and fit the model then run\n",
    "#Made n_estimators = 100 so we can have an accurate prediction, can lower it for computation time\n",
    "rfr = RandomForestClassifier(n_estimators = 100, random_state = 13, class_weight={0:1,1:2})        \n",
    "rfr.fit(X_train,y_train)\n",
    "y_predict = rfr.predict(X_test)"
   ]
  },
  {
   "cell_type": "code",
   "execution_count": 17,
   "id": "06bca574",
   "metadata": {},
   "outputs": [
    {
     "name": "stdout",
     "output_type": "stream",
     "text": [
      "Random Forest Regressor:\n",
      "\n",
      "Accuracy: 0.7883008356545961\n",
      "Mean Absolute Error: 0.2116991643454039\n",
      "Mean Squared Error: 0.2116991643454039\n",
      "Root Mean Squared Error: 0.4601077747065397\n"
     ]
    }
   ],
   "source": [
    "#Display accuracy metrics for the random forest\n",
    "print('Random Forest Regressor:')\n",
    "print()\n",
    "print('Accuracy:',rfr.score(X_test, y_test))\n",
    "print('Mean Absolute Error:', metrics.mean_absolute_error(y_test, y_predict))\n",
    "print('Mean Squared Error:', metrics.mean_squared_error(y_test, y_predict))\n",
    "print('Root Mean Squared Error:', np.sqrt(metrics.mean_squared_error(y_test, y_predict)))"
   ]
  },
  {
   "cell_type": "code",
   "execution_count": 18,
   "id": "20c49a50",
   "metadata": {},
   "outputs": [
    {
     "data": {
      "image/png": "[encoded data removed]",
      "text/plain": [
       "<Figure size 936x720 with 1 Axes>"
      ]
     },
     "metadata": {
      "needs_background": "light"
     },
     "output_type": "display_data"
    }
   ],
   "source": [
    "#Feature importance for Random Forest\n",
    "importances = rfr.feature_importances_\n",
    "std = np.std([tree.feature_importances_ for tree in rfr.estimators_], axis=0)\n",
    "forest_importances = pd.Series(importances, index=X_train.columns.to_list()).sort_values(ascending=False)\n",
    "fig, ax = plt.subplots(figsize=(13, 10))\n",
    "forest_importances.plot.bar(yerr=std, ax=ax,)\n",
    "ax.set_title(\"Feature importances using MDI\")\n",
    "ax.set_ylabel(\"Mean decrease in impurity\")\n",
    "fig.tight_layout()"
   ]
  },
  {
   "cell_type": "markdown",
   "id": "1c3c443a",
   "metadata": {},
   "source": [
    "# XGBoost \n",
    "#### Link used: https://stackoverflow.com/questions/67868420/xgboost-for-multiclassification-and-imbalanced-data"
   ]
  },
  {
   "cell_type": "code",
   "execution_count": 19,
   "id": "ebc01acb",
   "metadata": {},
   "outputs": [],
   "source": [
    "#Import and initialize the XGB model\n",
    "xgb_classifier = xgb.XGBClassifier()"
   ]
  },
  {
   "cell_type": "code",
   "execution_count": 20,
   "id": "02c1cb84",
   "metadata": {},
   "outputs": [],
   "source": [
    "#This is the best approach for imbalance data, XGBoost doesn't allow you to use class_weights\n",
    "sample_weights = compute_sample_weight(\n",
    "    class_weight='balanced',\n",
    "    y = train['readmitted'] \n",
    ")\n",
    "#y_train = y\n",
    "xgb_classifier.fit(X_train,y_train, sample_weight=sample_weights)\n",
    "index=X_train.columns.to_list()"
   ]
  },
  {
   "cell_type": "code",
   "execution_count": 21,
   "id": "2566f122",
   "metadata": {},
   "outputs": [
    {
     "data": {
      "image/png": "[encoded data removed]",
      "text/plain": [
       "<Figure size 432x288 with 1 Axes>"
      ]
     },
     "metadata": {
      "needs_background": "light"
     },
     "output_type": "display_data"
    }
   ],
   "source": [
    "#Feature Importance\n",
    "plot_importance(xgb_classifier)\n",
    "pyplot.show()"
   ]
  },
  {
   "cell_type": "code",
   "execution_count": 22,
   "id": "e7deb066",
   "metadata": {},
   "outputs": [
    {
     "data": {
      "image/png": "[encoded data removed]",
      "text/plain": [
       "<Figure size 432x288 with 1 Axes>"
      ]
     },
     "metadata": {
      "needs_background": "light"
     },
     "output_type": "display_data"
    }
   ],
   "source": [
    "#Feature importance using the feature_importances_ variable of the trained model\n",
    "pyplot.bar(index, xgb_classifier.feature_importances_)\n",
    "plt.xticks(index)\n",
    "pyplot.show()"
   ]
  },
  {
   "cell_type": "code",
   "execution_count": 23,
   "id": "48eabf2c",
   "metadata": {},
   "outputs": [
    {
     "data": {
      "text/html": [
       "<div>\n",
       "<style scoped>\n",
       "    .dataframe tbody tr th:only-of-type {\n",
       "        vertical-align: middle;\n",
       "    }\n",
       "\n",
       "    .dataframe tbody tr th {\n",
       "        vertical-align: top;\n",
       "    }\n",
       "\n",
       "    .dataframe thead th {\n",
       "        text-align: right;\n",
       "    }\n",
       "</style>\n",
       "<table border=\"1\" class=\"dataframe\">\n",
       "  <thead>\n",
       "    <tr style=\"text-align: right;\">\n",
       "      <th></th>\n",
       "      <th>feature</th>\n",
       "      <th>importance</th>\n",
       "    </tr>\n",
       "  </thead>\n",
       "  <tbody>\n",
       "    <tr>\n",
       "      <th>6</th>\n",
       "      <td>number_inpatient</td>\n",
       "      <td>0.289155</td>\n",
       "    </tr>\n",
       "    <tr>\n",
       "      <th>4</th>\n",
       "      <td>number_outpatient</td>\n",
       "      <td>0.042882</td>\n",
       "    </tr>\n",
       "    <tr>\n",
       "      <th>5</th>\n",
       "      <td>number_emergency</td>\n",
       "      <td>0.042252</td>\n",
       "    </tr>\n",
       "    <tr>\n",
       "      <th>22</th>\n",
       "      <td>discharge_disposition_id_5</td>\n",
       "      <td>0.034669</td>\n",
       "    </tr>\n",
       "    <tr>\n",
       "      <th>23</th>\n",
       "      <td>admission_source_id_2</td>\n",
       "      <td>0.032710</td>\n",
       "    </tr>\n",
       "  </tbody>\n",
       "</table>\n",
       "</div>"
      ],
      "text/plain": [
       "                       feature  importance\n",
       "6             number_inpatient    0.289155\n",
       "4            number_outpatient    0.042882\n",
       "5             number_emergency    0.042252\n",
       "22  discharge_disposition_id_5    0.034669\n",
       "23       admission_source_id_2    0.032710"
      ]
     },
     "execution_count": 23,
     "metadata": {},
     "output_type": "execute_result"
    }
   ],
   "source": [
    "#Couldn't get the graph in better shape so presenting the values in a Df\n",
    "feat_imp = pd.DataFrame()\n",
    "feat_imp['feature'] = index\n",
    "feat_imp['importance'] = xgb_classifier.feature_importances_\n",
    "feat_imp = feat_imp.sort_values(by=['importance'], ascending=False)\n",
    "feat_imp.head()"
   ]
  },
  {
   "cell_type": "code",
   "execution_count": 24,
   "id": "bc69ae89",
   "metadata": {},
   "outputs": [
    {
     "name": "stdout",
     "output_type": "stream",
     "text": [
      "Accuracy of Model:: 0.7936940674450306\n",
      "Mean Absolute Error: 0.20630593255496948\n",
      "Mean Squared Error: 0.20630593255496948\n",
      "Root Mean Squared Error: 0.4542091286565798\n"
     ]
    }
   ],
   "source": [
    "#Make predictions and print accuracy metrics\n",
    "predictions = xgb_classifier.predict(X_test)\n",
    "print(\"Accuracy of Model::\", accuracy_score(y_test,predictions))\n",
    "print('Mean Absolute Error:', metrics.mean_absolute_error(y_test, predictions))\n",
    "print('Mean Squared Error:', metrics.mean_squared_error(y_test, predictions))\n",
    "print('Root Mean Squared Error:', np.sqrt(metrics.mean_squared_error(y_test, predictions)))"
   ]
  },
  {
   "cell_type": "code",
   "execution_count": 25,
   "id": "28d55b04",
   "metadata": {},
   "outputs": [],
   "source": [
    "#Visualize\n",
    "#fig, ax = plt.subplots(figsize=(30, 30))\n",
    "#xgb.plot_tree(xgb_classifier, ax=ax)\n",
    "#plt.show()"
   ]
  },
  {
   "cell_type": "markdown",
   "id": "382f955a",
   "metadata": {},
   "source": [
    "# ROC Curves"
   ]
  },
  {
   "cell_type": "code",
   "execution_count": 28,
   "id": "9616d589",
   "metadata": {},
   "outputs": [
    {
     "data": {
      "image/png": "[encoded data removed]",
      "text/plain": [
       "<Figure size 432x288 with 1 Axes>"
      ]
     },
     "metadata": {
      "needs_background": "light"
     },
     "output_type": "display_data"
    },
    {
     "data": {
      "image/png": "[encoded data removed]",
      "text/plain": [
       "<Figure size 432x288 with 1 Axes>"
      ]
     },
     "metadata": {
      "needs_background": "light"
     },
     "output_type": "display_data"
    },
    {
     "data": {
      "image/png": "[encoded data removed]",
      "text/plain": [
       "<Figure size 432x288 with 1 Axes>"
      ]
     },
     "metadata": {
      "needs_background": "light"
     },
     "output_type": "display_data"
    },
    {
     "data": {
      "image/png": "[encoded data removed]",
      "text/plain": [
       "<Figure size 432x288 with 1 Axes>"
      ]
     },
     "metadata": {
      "needs_background": "light"
     },
     "output_type": "display_data"
    }
   ],
   "source": [
    "# Plot ROC curves\n",
    "\n",
    "fig_1 = PrecisionRecallDisplay.from_estimator(xgb_classifier, X_test,y_test)\n",
    "fig_2 = PrecisionRecallDisplay.from_estimator(rfr, X_test, y_test)\n",
    "fig_3 = PrecisionRecallDisplay.from_estimator(decision_tree_1, X_test, y_test)\n",
    "fig_4 = PrecisionRecallDisplay.from_estimator(decision_tree_2, X_test,y_test)\n",
    "\n",
    "#plot = RocCurveDisplay.from_estimator(xgb_classifier, X_test,y_test)\n",
    "#plot = RocCurveDisplay.from_estimator(rfr, X_test, y_test, ax=plot.ax_)\n",
    "#plot = RocCurveDisplay.from_estimator(decision_tree_1, X_test, y_test,ax=plot.ax_)\n",
    "#plot = RocCurveDisplay.from_estimator(decision_tree_2, X_test,y_test,ax=plot.ax_)\n",
    "#plot"
   ]
  }
 ],
 "metadata": {
  "kernelspec": {
   "display_name": "Python 3 (ipykernel)",
   "language": "python",
   "name": "python3"
  },
  "language_info": {
   "codemirror_mode": {
    "name": "ipython",
    "version": 3
   },
   "file_extension": ".py",
   "mimetype": "text/x-python",
   "name": "python",
   "nbconvert_exporter": "python",
   "pygments_lexer": "ipython3",
   "version": "3.9.12"
  }
 },
 "nbformat": 4,
 "nbformat_minor": 5
}
