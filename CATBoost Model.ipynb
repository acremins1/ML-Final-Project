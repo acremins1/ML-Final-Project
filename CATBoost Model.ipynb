{
 "cells": [
  {
   "cell_type": "code",
   "execution_count": 4,
   "id": "5220c4c3",
   "metadata": {},
   "outputs": [],
   "source": [
    "import pandas as pd\n",
    "import numpy as np\n",
    "import matplotlib.pyplot as plt\n",
    "from sklearn.neighbors import KNeighborsClassifier\n",
    "from sklearn.model_selection import cross_val_score\n",
    "from sklearn.model_selection import train_test_split\n",
    "from sklearn.ensemble import RandomForestClassifier\n",
    "from sklearn.model_selection import GridSearchCV\n",
    "from sklearn.linear_model import LogisticRegression\n",
    "import statsmodels.formula.api as smf\n",
    "import seaborn as sns\n",
    "from sklearn.decomposition import PCA\n",
    "from sklearn.preprocessing import StandardScaler\n",
    "from sklearn.manifold import TSNE\n",
    "from sklearn.discriminant_analysis import LinearDiscriminantAnalysis\n",
    "from sklearn.discriminant_analysis import QuadraticDiscriminantAnalysis\n",
    "from sklearn.metrics import confusion_matrix\n",
    "from sklearn.cluster import KMeans\n",
    "from sklearn.metrics import silhouette_score"
   ]
  },
  {
   "cell_type": "code",
   "execution_count": 5,
   "id": "51d8061c",
   "metadata": {},
   "outputs": [
    {
     "name": "stderr",
     "output_type": "stream",
     "text": [
      "C:\\Users\\prana\\AppData\\Local\\Temp\\ipykernel_8440\\2098720320.py:17: DeprecationWarning: `np.float` is a deprecated alias for the builtin `float`. To silence this warning, use `float` by itself. Doing this will not modify any behavior and is safe. If you specifically wanted the numpy scalar type, use `np.float64` here.\n",
      "Deprecated in NumPy 1.20; for more details and guidance: https://numpy.org/devdocs/release/1.20.0-notes.html#deprecations\n",
      "  categorical_var = np.where(X_train.dtypes != np.float)[0]\n"
     ]
    },
    {
     "data": {
      "application/vnd.jupyter.widget-view+json": {
       "model_id": "338ef1890e3b4fe2bdcf912539294c8f",
       "version_major": 2,
       "version_minor": 0
      },
      "text/plain": [
       "MetricVisualizer(layout=Layout(align_self='stretch', height='500px'))"
      ]
     },
     "metadata": {},
     "output_type": "display_data"
    },
    {
     "name": "stdout",
     "output_type": "stream",
     "text": [
      "Accuracy of CATBoost on the training set is:  87.7215164865559 %\n",
      "Accuracy of CATBoost on the testing set is:  83.35802761808807 %\n",
      "For CATBoost Classifier - \n",
      "ROC AUC Score:  0.6628457083435971\n"
     ]
    }
   ],
   "source": [
    "#Code Block\n",
    "#Read in the train and test data\n",
    "train_data = pd.read_csv('train.csv')\n",
    "test_data = pd.read_csv('test.csv')\n",
    "\n",
    "\n",
    "\n",
    "#Split the train data into X_train and Y_train\n",
    "X_train = train_data.drop(columns=['readmitted'], axis=1)\n",
    "y_train = train_data['readmitted']\n",
    "\n",
    "#Split the test_data into X_test and Y_test\n",
    "X_test = test_data.drop(columns = ['readmitted'], axis=1)\n",
    "y_test = test_data['readmitted']\n",
    "\n",
    "#Get the categorical_variables from X_Train\n",
    "categorical_var = np.where(X_train.dtypes != np.float)[0]\n",
    "\n",
    "#Import the CATBoost Classifer\n",
    "from catboost import CatBoostClassifier\n",
    "\n",
    "#Make the CATBoost Classifer with 5000 iterations and a learning rate of .1\n",
    "clf = CatBoostClassifier(\n",
    "    iterations=5000, \n",
    "    loss_function='Logloss',\n",
    "    class_weights={0:1,1:20}\n",
    ")\n",
    "#Fit the model on X_train, y_train, and make a plot of it\n",
    "clf.fit(X_train, y_train, cat_features = categorical_var,verbose=False, plot = True)\n",
    "\n",
    "#Import accuracy score\n",
    "from sklearn.metrics import accuracy_score\n",
    "\n",
    "#Test the accuracy of the model\n",
    "#predict the target on the train dataset\n",
    "predict_train = clf.predict(X_train)\n",
    "accuracy_train = accuracy_score(y_train, predict_train)\n",
    "print(\"Accuracy of CATBoost on the training set is: \", accuracy_train*100, \"%\")\n",
    "#Predict the target on the test dataset\n",
    "predict_test = clf.predict(X_test)\n",
    "accuracy_test = accuracy_score(y_test, predict_test)\n",
    "\n",
    "#Print the accuracy of the model\n",
    "print(\"Accuracy of CATBoost on the testing set is: \", accuracy_test*100, \"%\")\n",
    "from sklearn.metrics import (accuracy_score,roc_auc_score)\n",
    "\n",
    "print(\"For CATBoost Classifier - \\nROC AUC Score: \",roc_auc_score(y_test, predict_test))\n"
   ]
  }
 ],
 "metadata": {
  "kernelspec": {
   "display_name": "Python 3 (ipykernel)",
   "language": "python",
   "name": "python3"
  },
  "language_info": {
   "codemirror_mode": {
    "name": "ipython",
    "version": 3
   },
   "file_extension": ".py",
   "mimetype": "text/x-python",
   "name": "python",
   "nbconvert_exporter": "python",
   "pygments_lexer": "ipython3",
   "version": "3.9.12"
  }
 },
 "nbformat": 4,
 "nbformat_minor": 5
}
